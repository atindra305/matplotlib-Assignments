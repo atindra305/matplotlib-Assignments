{
  "nbformat": 4,
  "nbformat_minor": 0,
  "metadata": {
    "colab": {
      "name": "probability.ipynb",
      "provenance": [],
      "collapsed_sections": []
    },
    "kernelspec": {
      "name": "python3",
      "display_name": "Python 3"
    }
  },
  "cells": [
    {
      "cell_type": "code",
      "metadata": {
        "id": "EUntGwSD08va",
        "colab_type": "code",
        "colab": {
          "base_uri": "https://localhost:8080/",
          "height": 282
        },
        "outputId": "2bf7d15a-64b3-4bd4-8264-9aed8a320ffb"
      },
      "source": [
        "a = [1,2,3,4,5,6,7,8,9]\n",
        "b = [0.2985, 0.1765, 0.1273, 0.0944, 0.0793, 0.0637, 0.0592, 0.0517, 0.0494]\n",
        "\n",
        "import matplotlib.pyplot as plt\n",
        "plt.bar(a,b)"
      ],
      "execution_count": 1,
      "outputs": [
        {
          "output_type": "execute_result",
          "data": {
            "text/plain": [
              "<BarContainer object of 9 artists>"
            ]
          },
          "metadata": {
            "tags": []
          },
          "execution_count": 1
        },
        {
          "output_type": "display_data",
          "data": {
            "image/png": "[encoded data removed]",
            "text/plain": [
              "<Figure size 432x288 with 1 Axes>"
            ]
          },
          "metadata": {
            "tags": [],
            "needs_background": "light"
          }
        }
      ]
    },
    {
      "cell_type": "code",
      "metadata": {
        "id": "nRs2gYYEEUF3",
        "colab_type": "code",
        "colab": {
          "base_uri": "https://localhost:8080/",
          "height": 282
        },
        "outputId": "a5945069-e743-4baa-cd63-6079bd6a0753"
      },
      "source": [
        "from collections import Counter\n",
        "import matplotlib.pyplot as plt\n",
        "f = open(\"Input_Numbers.txt\",\"r\")\n",
        "red = f.read()\n",
        "clist = []\n",
        "for i in red:\n",
        "  clist.append(i)\n",
        "bcount = Counter(clist)\n",
        "del bcount[' ']\n",
        "del bcount['\\n']\n",
        "temp = 0\n",
        "for i in bcount.values():\n",
        "  temp = temp + i\n",
        "dlist = []\n",
        "elist = []\n",
        "sum = 0\n",
        "for k in range(1,10):\n",
        "  for i,j in bcount.items():\n",
        "    if(str(k) == i):\n",
        "      dlist.append(i)\n",
        "      sum = sum + j\n",
        "      elist.append(sum/temp)\n",
        "plt.bar(dlist,elist)"
      ],
      "execution_count": null,
      "outputs": [
        {
          "output_type": "execute_result",
          "data": {
            "text/plain": [
              "<BarContainer object of 9 artists>"
            ]
          },
          "metadata": {
            "tags": []
          },
          "execution_count": 5
        },
        {
          "output_type": "display_data",
          "data": {
            "image/png": "[encoded data removed]",
            "text/plain": [
              "<Figure size 432x288 with 1 Axes>"
            ]
          },
          "metadata": {
            "tags": [],
            "needs_background": "light"
          }
        }
      ]
    },
    {
      "cell_type": "code",
      "metadata": {
        "id": "xrXGvIBdNaCE",
        "colab_type": "code",
        "colab": {
          "base_uri": "https://localhost:8080/",
          "height": 264
        },
        "outputId": "3f742fc6-5b89-402d-cdef-c6898f052eef"
      },
      "source": [
        "import matplotlib.pyplot as plt\n",
        "f = open(\"Input_Numbers.txt\",\"r\")\n",
        "red = f.read()\n",
        "clist = []\n",
        "for i in red:\n",
        "  if (i != '\\n'):\n",
        "    clist.append(int(i))\n",
        "plt.hist(clist, bins=[1,2,3,4,5,6,7,8,9,10])\n",
        "plt.show()"
      ],
      "execution_count": null,
      "outputs": [
        {
          "output_type": "display_data",
          "data": {
            "image/png": "[encoded data removed]",
            "text/plain": [
              "<Figure size 432x288 with 1 Axes>"
            ]
          },
          "metadata": {
            "tags": [],
            "needs_background": "light"
          }
        }
      ]
    }
  ]
}